{
  "nbformat": 4,
  "nbformat_minor": 0,
  "metadata": {
    "kernelspec": {
      "display_name": "Python 3 (ipykernel)",
      "language": "python",
      "name": "python3"
    },
    "language_info": {
      "codemirror_mode": {
        "name": "ipython",
        "version": 3
      },
      "file_extension": ".py",
      "mimetype": "text/x-python",
      "name": "python",
      "nbconvert_exporter": "python",
      "pygments_lexer": "ipython3",
      "version": "3.8.10"
    },
    "colab": {
      "name": "hierarchical-clustering.ipynb",
      "provenance": [],
      "include_colab_link": true
    }
  },
  "cells": [
    {
      "cell_type": "markdown",
      "metadata": {
        "id": "view-in-github",
        "colab_type": "text"
      },
      "source": [
        "<a href=\"https://colab.research.google.com/github/aminzayer/Hiehierarchical-clustering/blob/main/hierarchical_clustering.ipynb\" target=\"_parent\"><img src=\"https://colab.research.google.com/assets/colab-badge.svg\" alt=\"Open In Colab\"/></a>"
      ]
    },
    {
      "cell_type": "markdown",
      "metadata": {
        "id": "4vmuuoFzvRYp"
      },
      "source": [
        "# Problem : Please Clustering Below Data with Hierarchical Algorithms\n",
        "# (1,3)-(4,2)-(5,6)-(3,1)-(7,2)-(3,3)"
      ]
    },
    {
      "cell_type": "code",
      "metadata": {
        "_cell_guid": "b1076dfc-b9ad-4769-8c92-a6c4dae69d19",
        "_uuid": "8f2839f25d086af736a60e9eeb907d3b93b6e0e5",
        "execution": {
          "iopub.execute_input": "2021-12-07T16:07:53.609597Z",
          "iopub.status.busy": "2021-12-07T16:07:53.609240Z",
          "iopub.status.idle": "2021-12-07T16:07:53.615091Z",
          "shell.execute_reply": "2021-12-07T16:07:53.613977Z",
          "shell.execute_reply.started": "2021-12-07T16:07:53.609560Z"
        },
        "id": "_QQDf0AIvRY4"
      },
      "source": [
        "import numpy as np\n",
        "X = np.array([[1,3],[4,2],[5,6],[3,1],[7,2],[3,3],])"
      ],
      "execution_count": null,
      "outputs": []
    },
    {
      "cell_type": "markdown",
      "metadata": {
        "id": "elIUEFE3vRY7"
      },
      "source": [
        "# Plotting Data "
      ]
    },
    {
      "cell_type": "code",
      "metadata": {
        "execution": {
          "iopub.execute_input": "2021-12-07T16:16:44.206826Z",
          "iopub.status.busy": "2021-12-07T16:16:44.206287Z",
          "iopub.status.idle": "2021-12-07T16:16:44.385770Z",
          "shell.execute_reply": "2021-12-07T16:16:44.384764Z",
          "shell.execute_reply.started": "2021-12-07T16:16:44.206777Z"
        },
        "id": "or9yjcQJvRY8",
        "outputId": "62335487-3a5c-4713-d6a8-455960b1eeb6"
      },
      "source": [
        "import matplotlib.pyplot as plt\n",
        "labels = range(1, 7)\n",
        "plt.figure(figsize=(7, 3))\n",
        "plt.subplots_adjust(bottom=0.1)\n",
        "plt.scatter(X[:,0],X[:,1], label='True Position')\n",
        "\n",
        "for label, x, y in zip(labels, X[:, 0], X[:, 1]):\n",
        "    plt.annotate(\n",
        "        label,\n",
        "        xy=(x, y), xytext=(-3, 3),\n",
        "        textcoords='offset points', ha='right', va='bottom')\n",
        "plt.show()"
      ],
      "execution_count": null,
      "outputs": [
        {
          "data": {
            "image/png": "[encoded data removed]",
            "text/plain": [
              "<Figure size 504x216 with 1 Axes>"
            ]
          },
          "metadata": {
            "needs_background": "light"
          },
          "output_type": "display_data"
        }
      ]
    },
    {
      "cell_type": "markdown",
      "metadata": {
        "id": "c9v50PfyvRZB"
      },
      "source": [
        "# Use Hierarchical Algorithm Single Method"
      ]
    },
    {
      "cell_type": "code",
      "metadata": {
        "execution": {
          "iopub.execute_input": "2021-12-07T16:16:56.892869Z",
          "iopub.status.busy": "2021-12-07T16:16:56.892536Z",
          "iopub.status.idle": "2021-12-07T16:16:57.101980Z",
          "shell.execute_reply": "2021-12-07T16:16:57.100976Z",
          "shell.execute_reply.started": "2021-12-07T16:16:56.892837Z"
        },
        "id": "xCk70GZlvRZB",
        "outputId": "1c703198-0a18-453f-df00-badad0118d48"
      },
      "source": [
        "from scipy.cluster.hierarchy import dendrogram, linkage\n",
        "from matplotlib import pyplot as plt\n",
        "\n",
        "linked = linkage(X, 'single')\n",
        "\n",
        "labelList = range(1, 7)\n",
        "\n",
        "plt.figure(figsize=(7, 3))\n",
        "dendrogram(linked,orientation='top',labels=labelList,distance_sort='descending',show_leaf_counts=True)\n",
        "plt.show()"
      ],
      "execution_count": null,
      "outputs": [
        {
          "data": {
            "image/png": "[encoded data removed]",
            "text/plain": [
              "<Figure size 504x216 with 1 Axes>"
            ]
          },
          "metadata": {
            "needs_background": "light"
          },
          "output_type": "display_data"
        }
      ]
    },
    {
      "cell_type": "markdown",
      "metadata": {
        "id": "8Z50YBFzvRZD"
      },
      "source": [
        "# Use Hierarchical Algorithm Complete Method"
      ]
    },
    {
      "cell_type": "code",
      "metadata": {
        "execution": {
          "iopub.execute_input": "2021-12-07T16:20:35.276076Z",
          "iopub.status.busy": "2021-12-07T16:20:35.275791Z",
          "iopub.status.idle": "2021-12-07T16:20:35.489041Z",
          "shell.execute_reply": "2021-12-07T16:20:35.487923Z",
          "shell.execute_reply.started": "2021-12-07T16:20:35.276046Z"
        },
        "id": "2MdRmvlIvRZE",
        "outputId": "512b91c8-f40b-4d0b-ccf7-7db5b6e95f50"
      },
      "source": [
        "from scipy.cluster.hierarchy import dendrogram, linkage\n",
        "from matplotlib import pyplot as plt\n",
        "\n",
        "linked = linkage(X, 'complete')\n",
        "\n",
        "labelList = range(1, 7)\n",
        "\n",
        "plt.figure(figsize=(7, 3))\n",
        "dendrogram(linked,orientation='top',labels=labelList,distance_sort='descending',show_leaf_counts=True)\n",
        "plt.show()"
      ],
      "execution_count": null,
      "outputs": [
        {
          "data": {
            "image/png": "[encoded data removed]",
            "text/plain": [
              "<Figure size 504x216 with 1 Axes>"
            ]
          },
          "metadata": {
            "needs_background": "light"
          },
          "output_type": "display_data"
        }
      ]
    },
    {
      "cell_type": "markdown",
      "metadata": {
        "id": "jqpp-NdvvRZF"
      },
      "source": [
        "# Use Hierarchical Algorithm Average Method"
      ]
    },
    {
      "cell_type": "code",
      "metadata": {
        "execution": {
          "iopub.execute_input": "2021-12-07T16:21:45.157157Z",
          "iopub.status.busy": "2021-12-07T16:21:45.156808Z",
          "iopub.status.idle": "2021-12-07T16:21:45.358851Z",
          "shell.execute_reply": "2021-12-07T16:21:45.357873Z",
          "shell.execute_reply.started": "2021-12-07T16:21:45.157080Z"
        },
        "id": "PYdPnMwKvRZH",
        "outputId": "90596f8b-a4e3-462c-ca1b-27cd6d3dcc6f"
      },
      "source": [
        "from scipy.cluster.hierarchy import dendrogram, linkage\n",
        "from matplotlib import pyplot as plt\n",
        "\n",
        "linked = linkage(X, 'average')\n",
        "\n",
        "labelList = range(1, 7)\n",
        "\n",
        "plt.figure(figsize=(7, 3))\n",
        "dendrogram(linked,orientation='top',labels=labelList,distance_sort='descending',show_leaf_counts=True)\n",
        "plt.show()"
      ],
      "execution_count": null,
      "outputs": [
        {
          "data": {
            "image/png": "[encoded data removed]",
            "text/plain": [
              "<Figure size 504x216 with 1 Axes>"
            ]
          },
          "metadata": {
            "needs_background": "light"
          },
          "output_type": "display_data"
        }
      ]
    }
  ]
}